{
 "cells": [
  {
   "cell_type": "markdown",
   "metadata": {},
   "source": [
    "# about\n",
    "\n",
    "This VM provides a Jupyter/IPython environment bundled with **python 3** and the following modules/libraries:\n",
    "\n",
    "* Jinja2\n",
    "* ciscoconfparse\n",
    "* textfsm\n",
    "* requests\n",
    "\n",
    "These modules were part of previous post on my blog at the [Coding Networker](https://codingnetworker.com).\n"
   ]
  },
  {
   "cell_type": "markdown",
   "metadata": {},
   "source": [
    "## jupyter home directory\n",
    "\n",
    "The following directories are availalable on the home directory:\n",
    "\n",
    "* **examples** - link to the `/vagrant` directory, that incudes all previous python examples\n",
    "* **notebooks** - link to the `/vagrant/notebooks` directory, that contains all example notebooks\n",
    "* **github** - repositories, that are cloned from GitHub during the provisioning of the machine"
   ]
  },
  {
   "cell_type": "markdown",
   "metadata": {},
   "source": [
    "## import other notebooks\n",
    "\n",
    "This environment is preconfigured to import other notebooks, which are located in a directory with a `__init__.py` file.\n",
    "\n",
    "The following code shows an example of this function:"
   ]
  },
  {
   "cell_type": "code",
   "execution_count": 1,
   "metadata": {
    "collapsed": false
   },
   "outputs": [
    {
     "name": "stdout",
     "output_type": "stream",
     "text": [
      "importing Jupyter notebook from /home/vagrant/notebooks/import_test.ipynb\n"
     ]
    }
   ],
   "source": [
    "from notebooks.import_test import echo_function"
   ]
  },
  {
   "cell_type": "code",
   "execution_count": 2,
   "metadata": {
    "collapsed": false
   },
   "outputs": [
    {
     "name": "stdout",
     "output_type": "stream",
     "text": [
      "Hello\n"
     ]
    },
    {
     "data": {
      "text/plain": [
       "'Hello'"
      ]
     },
     "execution_count": 2,
     "metadata": {},
     "output_type": "execute_result"
    }
   ],
   "source": [
    "echo_function(\"Hello\")"
   ]
  }
 ],
 "metadata": {
  "kernelspec": {
   "display_name": "Python 3",
   "language": "python",
   "name": "python3"
  },
  "language_info": {
   "codemirror_mode": {
    "name": "ipython",
    "version": 3
   },
   "file_extension": ".py",
   "mimetype": "text/x-python",
   "name": "python",
   "nbconvert_exporter": "python",
   "pygments_lexer": "ipython3",
   "version": "3.4.3"
  }
 },
 "nbformat": 4,
 "nbformat_minor": 0
}
