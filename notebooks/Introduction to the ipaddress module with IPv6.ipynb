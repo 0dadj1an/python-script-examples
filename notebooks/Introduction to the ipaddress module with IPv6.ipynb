{
 "cells": [
  {
   "cell_type": "markdown",
   "metadata": {},
   "source": [
    "# IPv6 addresses and networks in python 3\n",
    "\n",
    "This notebook provieds a brief overview of the ipaddress module, that was introduced starting with python version 3.3.\n",
    "\n",
    "Further details about this module can be found at the [official python documentation](https://docs.python.org/3.4/library/ipaddress.html).\n"
   ]
  },
  {
   "cell_type": "code",
   "execution_count": 1,
   "metadata": {
    "collapsed": true
   },
   "outputs": [],
   "source": [
    "import ipaddress\n",
    "from ipaddress import IPv6Address, IPv6Network, IPv6Interface"
   ]
  },
  {
   "cell_type": "markdown",
   "metadata": {},
   "source": [
    "## creating IPv6 addresses using the factory methods\n",
    "\n",
    "The ipaddress module defines some factory functions, that can be used to create new instances for IPv4/IPv6 strings or integers.\n"
   ]
  },
  {
   "cell_type": "code",
   "execution_count": 2,
   "metadata": {
    "collapsed": false
   },
   "outputs": [
    {
     "data": {
      "text/plain": [
       "IPv6Address('2001:db8::beef')"
      ]
     },
     "execution_count": 2,
     "metadata": {},
     "output_type": "execute_result"
    }
   ],
   "source": [
    "ipaddress.ip_address(\"2001:0db8::beef\")"
   ]
  },
  {
   "cell_type": "code",
   "execution_count": 3,
   "metadata": {
    "collapsed": false
   },
   "outputs": [
    {
     "data": {
      "text/plain": [
       "IPv6Network('2001:db8:1::/64')"
      ]
     },
     "execution_count": 3,
     "metadata": {},
     "output_type": "execute_result"
    }
   ],
   "source": [
    "ipaddress.ip_network(\"2001:0db8:1::/64\")"
   ]
  },
  {
   "cell_type": "markdown",
   "metadata": {},
   "source": [
    "If you try to create an IPv6Network instance from a string a `ValueError` is thrown if the host bits are set. If you suspect, that a string will contain such a value, you can disable the `strict option`. Without the `strict` option, the factory function will ignore any host bit that is set."
   ]
  },
  {
   "cell_type": "code",
   "execution_count": 4,
   "metadata": {
    "collapsed": false,
    "scrolled": true
   },
   "outputs": [
    {
     "data": {
      "text/plain": [
       "IPv6Network('2001:db8:1::/64')"
      ]
     },
     "execution_count": 4,
     "metadata": {},
     "output_type": "execute_result"
    }
   ],
   "source": [
    "ipaddress.ip_network(\"2001:0db8:1::affe/64\", strict=False)"
   ]
  },
  {
   "cell_type": "markdown",
   "metadata": {},
   "source": [
    "Another way to handle this situation is to use the `IPv6Interface` class. This class has the benefit, that you can extract the `IPv6Address` and the `IPv6Network` objects from a single instance."
   ]
  },
  {
   "cell_type": "code",
   "execution_count": 5,
   "metadata": {
    "collapsed": false
   },
   "outputs": [
    {
     "data": {
      "text/plain": [
       "IPv6Interface('2001:db8:1::affe/64')"
      ]
     },
     "execution_count": 5,
     "metadata": {},
     "output_type": "execute_result"
    }
   ],
   "source": [
    "intf = ipaddress.ip_interface(\"2001:0db8:1::affe/64\")\n",
    "intf"
   ]
  },
  {
   "cell_type": "code",
   "execution_count": 6,
   "metadata": {
    "collapsed": false
   },
   "outputs": [
    {
     "data": {
      "text/plain": [
       "IPv6Address('2001:db8:1::affe')"
      ]
     },
     "execution_count": 6,
     "metadata": {},
     "output_type": "execute_result"
    }
   ],
   "source": [
    "intf.ip"
   ]
  },
  {
   "cell_type": "code",
   "execution_count": 7,
   "metadata": {
    "collapsed": false
   },
   "outputs": [
    {
     "data": {
      "text/plain": [
       "IPv6Network('2001:db8:1::/64')"
      ]
     },
     "execution_count": 7,
     "metadata": {},
     "output_type": "execute_result"
    }
   ],
   "source": [
    "intf.network"
   ]
  },
  {
   "cell_type": "markdown",
   "metadata": {},
   "source": [
    "## Display IPv6 addresses\n"
   ]
  },
  {
   "cell_type": "code",
   "execution_count": 8,
   "metadata": {
    "collapsed": false
   },
   "outputs": [
    {
     "data": {
      "text/plain": [
       "'2001:0db8:0001:0000:0000:0000:0000:affe/64'"
      ]
     },
     "execution_count": 8,
     "metadata": {},
     "output_type": "execute_result"
    }
   ],
   "source": [
    "# display the long representation of the IPv6 address\n",
    "intf.exploded"
   ]
  },
  {
   "cell_type": "code",
   "execution_count": 9,
   "metadata": {
    "collapsed": false
   },
   "outputs": [
    {
     "data": {
      "text/plain": [
       "'2001:db8:32:0:beef:123:cafe:bd1'"
      ]
     },
     "execution_count": 9,
     "metadata": {},
     "output_type": "execute_result"
    }
   ],
   "source": [
    "# display the short version of the IPv6 address\n",
    "IPv6Address(\"2001:0db8:0032:0000:beef:0123:cafe:0bd1\").compressed"
   ]
  },
  {
   "cell_type": "markdown",
   "metadata": {},
   "source": [
    "## gather information from the IPv6Network object\n",
    "\n",
    "Within this notebook, I'll like to continue with the `IPv6Interface` class. This class provides the ability to create the `IPv6Address` or `IPv6Network` object if required, as shown above.\n"
   ]
  },
  {
   "cell_type": "code",
   "execution_count": 10,
   "metadata": {
    "collapsed": false
   },
   "outputs": [
    {
     "data": {
      "text/plain": [
       "6"
      ]
     },
     "execution_count": 10,
     "metadata": {},
     "output_type": "execute_result"
    }
   ],
   "source": [
    "intf = ipaddress.ip_interface(\"2001:0db8:1::affe/64\")\n",
    "intf.version"
   ]
  },
  {
   "cell_type": "markdown",
   "metadata": {},
   "source": [
    "get different representation of the IPv4 interface, address or network"
   ]
  },
  {
   "cell_type": "code",
   "execution_count": 11,
   "metadata": {
    "collapsed": false
   },
   "outputs": [
    {
     "data": {
      "text/plain": [
       "'2001:db8:1::affe/ffff:ffff:ffff:ffff::'"
      ]
     },
     "execution_count": 11,
     "metadata": {},
     "output_type": "execute_result"
    }
   ],
   "source": [
    "intf.with_netmask"
   ]
  },
  {
   "cell_type": "code",
   "execution_count": 12,
   "metadata": {
    "collapsed": false
   },
   "outputs": [
    {
     "data": {
      "text/plain": [
       "'2001:db8:1::affe/64'"
      ]
     },
     "execution_count": 12,
     "metadata": {},
     "output_type": "execute_result"
    }
   ],
   "source": [
    "intf.with_prefixlen"
   ]
  },
  {
   "cell_type": "code",
   "execution_count": 13,
   "metadata": {
    "collapsed": false
   },
   "outputs": [
    {
     "data": {
      "text/plain": [
       "'2001:db8:1::/ffff:ffff:ffff:ffff::'"
      ]
     },
     "execution_count": 13,
     "metadata": {},
     "output_type": "execute_result"
    }
   ],
   "source": [
    "intf.network.with_netmask"
   ]
  },
  {
   "cell_type": "code",
   "execution_count": 14,
   "metadata": {
    "collapsed": false
   },
   "outputs": [
    {
     "data": {
      "text/plain": [
       "'2001:db8:1::affe/::ffff:ffff:ffff:ffff'"
      ]
     },
     "execution_count": 14,
     "metadata": {},
     "output_type": "execute_result"
    }
   ],
   "source": [
    "intf.with_hostmask"
   ]
  },
  {
   "cell_type": "markdown",
   "metadata": {},
   "source": [
    "get information about the IPv6 interface, address and network"
   ]
  },
  {
   "cell_type": "code",
   "execution_count": 15,
   "metadata": {
    "collapsed": false
   },
   "outputs": [
    {
     "data": {
      "text/plain": [
       "True"
      ]
     },
     "execution_count": 15,
     "metadata": {},
     "output_type": "execute_result"
    }
   ],
   "source": [
    "intf.network.is_private"
   ]
  },
  {
   "cell_type": "code",
   "execution_count": 16,
   "metadata": {
    "collapsed": false
   },
   "outputs": [
    {
     "data": {
      "text/plain": [
       "False"
      ]
     },
     "execution_count": 16,
     "metadata": {},
     "output_type": "execute_result"
    }
   ],
   "source": [
    "intf.network.is_reserved"
   ]
  },
  {
   "cell_type": "code",
   "execution_count": 17,
   "metadata": {
    "collapsed": false
   },
   "outputs": [
    {
     "data": {
      "text/plain": [
       "False"
      ]
     },
     "execution_count": 17,
     "metadata": {},
     "output_type": "execute_result"
    }
   ],
   "source": [
    "intf.network.is_global"
   ]
  },
  {
   "cell_type": "code",
   "execution_count": 18,
   "metadata": {
    "collapsed": false
   },
   "outputs": [
    {
     "data": {
      "text/plain": [
       "False"
      ]
     },
     "execution_count": 18,
     "metadata": {},
     "output_type": "execute_result"
    }
   ],
   "source": [
    "intf.network.is_multicast"
   ]
  },
  {
   "cell_type": "code",
   "execution_count": 19,
   "metadata": {
    "collapsed": false
   },
   "outputs": [
    {
     "data": {
      "text/plain": [
       "IPv6Address('2001:db8:1:0:ffff:ffff:ffff:ffff')"
      ]
     },
     "execution_count": 19,
     "metadata": {},
     "output_type": "execute_result"
    }
   ],
   "source": [
    "intf.network.broadcast_address"
   ]
  },
  {
   "cell_type": "code",
   "execution_count": 20,
   "metadata": {
    "collapsed": false
   },
   "outputs": [
    {
     "data": {
      "text/plain": [
       "IPv6Address('2001:db8:1::')"
      ]
     },
     "execution_count": 20,
     "metadata": {},
     "output_type": "execute_result"
    }
   ],
   "source": [
    "intf.network.network_address"
   ]
  },
  {
   "cell_type": "code",
   "execution_count": 21,
   "metadata": {
    "collapsed": false
   },
   "outputs": [
    {
     "data": {
      "text/plain": [
       "18446744073709551616"
      ]
     },
     "execution_count": 21,
     "metadata": {},
     "output_type": "execute_result"
    }
   ],
   "source": [
    "intf.network.num_addresses"
   ]
  },
  {
   "cell_type": "code",
   "execution_count": 22,
   "metadata": {
    "collapsed": false
   },
   "outputs": [
    {
     "data": {
      "text/plain": [
       "[IPv6Address('2001:db8:0:1::1'),\n",
       " IPv6Address('2001:db8:0:1::2'),\n",
       " IPv6Address('2001:db8:0:1::3'),\n",
       " IPv6Address('2001:db8:0:1::4'),\n",
       " IPv6Address('2001:db8:0:1::5'),\n",
       " IPv6Address('2001:db8:0:1::6'),\n",
       " IPv6Address('2001:db8:0:1::7')]"
      ]
     },
     "execution_count": 22,
     "metadata": {},
     "output_type": "execute_result"
    }
   ],
   "source": [
    "# be careful with the following function and /64 prefixes because of the large amount of addresses\n",
    "list(IPv6Network(\"2001:db8:0:1::/125\").hosts())"
   ]
  },
  {
   "cell_type": "markdown",
   "metadata": {},
   "source": [
    "## Check if an IPv6 address is part of a network\n"
   ]
  },
  {
   "cell_type": "code",
   "execution_count": 23,
   "metadata": {
    "collapsed": false
   },
   "outputs": [
    {
     "data": {
      "text/plain": [
       "True"
      ]
     },
     "execution_count": 23,
     "metadata": {},
     "output_type": "execute_result"
    }
   ],
   "source": [
    "ipaddr = IPv6Address(\"2001:db8:0:1::beef\")\n",
    "\n",
    "ipaddr in IPv6Network(\"2001:db8:0:1::/64\")"
   ]
  },
  {
   "cell_type": "code",
   "execution_count": 24,
   "metadata": {
    "collapsed": false
   },
   "outputs": [
    {
     "data": {
      "text/plain": [
       "False"
      ]
     },
     "execution_count": 24,
     "metadata": {},
     "output_type": "execute_result"
    }
   ],
   "source": [
    "ipaddr in IPv6Network(\"2001:db8:0:2::/64\")"
   ]
  },
  {
   "cell_type": "markdown",
   "metadata": {},
   "source": [
    "## Subnetting in python\n",
    "\n",
    "The `ipaddress` module includes various functions to create subnets and supernets, to check whether a network overlaps or not etc.\n",
    "\n",
    "This notebook demonstrates just some basic functions that are required from day to day, further details can be found in the [official python documentation](https://docs.python.org/3.4/library/ipaddress.html)."
   ]
  },
  {
   "cell_type": "code",
   "execution_count": 25,
   "metadata": {
    "collapsed": false
   },
   "outputs": [
    {
     "data": {
      "text/plain": [
       "[IPv6Network('2001:db8:0:1::/68'),\n",
       " IPv6Network('2001:db8:0:1:1000::/68'),\n",
       " IPv6Network('2001:db8:0:1:2000::/68'),\n",
       " IPv6Network('2001:db8:0:1:3000::/68'),\n",
       " IPv6Network('2001:db8:0:1:4000::/68'),\n",
       " IPv6Network('2001:db8:0:1:5000::/68'),\n",
       " IPv6Network('2001:db8:0:1:6000::/68'),\n",
       " IPv6Network('2001:db8:0:1:7000::/68'),\n",
       " IPv6Network('2001:db8:0:1:8000::/68'),\n",
       " IPv6Network('2001:db8:0:1:9000::/68'),\n",
       " IPv6Network('2001:db8:0:1:a000::/68'),\n",
       " IPv6Network('2001:db8:0:1:b000::/68'),\n",
       " IPv6Network('2001:db8:0:1:c000::/68'),\n",
       " IPv6Network('2001:db8:0:1:d000::/68'),\n",
       " IPv6Network('2001:db8:0:1:e000::/68'),\n",
       " IPv6Network('2001:db8:0:1:f000::/68')]"
      ]
     },
     "execution_count": 25,
     "metadata": {},
     "output_type": "execute_result"
    }
   ],
   "source": [
    "ipnet = IPv6Network(\"2001:db8:0:1::/64\")\n",
    "\n",
    "# prefixlen_diff = number of additional network bits\n",
    "list(ipnet.subnets(prefixlen_diff=4))"
   ]
  },
  {
   "cell_type": "code",
   "execution_count": 26,
   "metadata": {
    "collapsed": false
   },
   "outputs": [
    {
     "data": {
      "text/plain": [
       "[IPv6Network('2001:db8:0:1::/68'),\n",
       " IPv6Network('2001:db8:0:1:1000::/68'),\n",
       " IPv6Network('2001:db8:0:1:2000::/68'),\n",
       " IPv6Network('2001:db8:0:1:3000::/68'),\n",
       " IPv6Network('2001:db8:0:1:4000::/68'),\n",
       " IPv6Network('2001:db8:0:1:5000::/68'),\n",
       " IPv6Network('2001:db8:0:1:6000::/68'),\n",
       " IPv6Network('2001:db8:0:1:7000::/68'),\n",
       " IPv6Network('2001:db8:0:1:8000::/68'),\n",
       " IPv6Network('2001:db8:0:1:9000::/68'),\n",
       " IPv6Network('2001:db8:0:1:a000::/68'),\n",
       " IPv6Network('2001:db8:0:1:b000::/68'),\n",
       " IPv6Network('2001:db8:0:1:c000::/68'),\n",
       " IPv6Network('2001:db8:0:1:d000::/68'),\n",
       " IPv6Network('2001:db8:0:1:e000::/68'),\n",
       " IPv6Network('2001:db8:0:1:f000::/68')]"
      ]
     },
     "execution_count": 26,
     "metadata": {},
     "output_type": "execute_result"
    }
   ],
   "source": [
    "# new_prefix = number of network bits for the new prefix\n",
    "list(ipnet.subnets(new_prefix=68))"
   ]
  },
  {
   "cell_type": "code",
   "execution_count": null,
   "metadata": {
    "collapsed": true
   },
   "outputs": [],
   "source": []
  }
 ],
 "metadata": {
  "kernelspec": {
   "display_name": "Python 3",
   "language": "python",
   "name": "python3"
  },
  "language_info": {
   "codemirror_mode": {
    "name": "ipython",
    "version": 3
   },
   "file_extension": ".py",
   "mimetype": "text/x-python",
   "name": "python",
   "nbconvert_exporter": "python",
   "pygments_lexer": "ipython3",
   "version": "3.4.3"
  }
 },
 "nbformat": 4,
 "nbformat_minor": 0
}
